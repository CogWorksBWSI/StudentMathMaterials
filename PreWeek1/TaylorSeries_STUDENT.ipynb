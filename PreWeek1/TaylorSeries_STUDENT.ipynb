{
 "cells": [
  {
   "cell_type": "markdown",
   "metadata": {},
   "source": [
    "# Understanding Fourier Series\n",
    ">Cogworks 2018  (AJ Federici)"
   ]
  },
  {
   "cell_type": "markdown",
   "metadata": {},
   "source": [
    "A Taylor Series is the representation of **any** function as a _Series_ of polynomials. And by representation we mean that any function has an exact parallel in the form of an infinite sum of polynomials.  However, we will mostly use approximations that are _almost_ exact as computers don't work well with anything infinite.  While we won't be working with Taylor Series, we will be working with Fourier Series which is the same idea, except using cosine and sine to represent functions instead of polynomials.\n",
    "\n",
    "Plot it below"
   ]
  },
  {
   "cell_type": "code",
   "execution_count": null,
   "metadata": {},
   "outputs": [],
   "source": [
    "def plot_ex():\n",
    "    import matplotlib.pyplot as plt\n",
    "    import numpy as np\n",
    "    %matplotlib notebook\n",
    "    x = np.linspace(-3,3,1000)\n",
    "    y = np.exp(x)\n",
    "    y1st = 1\n",
    "    y2nd = x\n",
    "    y3rd = x**2 / 2\n",
    "    y4th = x**3 / (3 * 2)\n",
    "    y5th = x**4 / (4 * 3 * 2)\n",
    "    fig, ax = plt.subplots(figsize=(8,4))\n",
    "    ax.plot(x, y, label = 'e^x');\n",
    "    ax.plot(x, [y1st for i in range(len(x))], label = '1st order taylor');\n",
    "    ax.plot(x, y1st + y2nd, label = '2nd order taylor');\n",
    "    ax.plot(x, y1st + y2nd + y3rd, label = '3rd order taylor');\n",
    "    ax.plot(x, y1st + y2nd + y3rd + y4th, label = '4th order taylor');\n",
    "    ax.plot(x, y1st + y2nd + y3rd + y4th + y5th, label = '5th order taylor');\n",
    "    plt.legend(loc='best')\n",
    "\n",
    "plot_ex()"
   ]
  },
  {
   "cell_type": "markdown",
   "metadata": {},
   "source": [
    "As you can see above we have the function e^x and then its corresponding 1st, 2nd, 3rd, 4th, and 5th degree taylor polynomial.  As the degree gets larger we get a closer and closer approximation.  The formula for finding a taylor polynomial is shown below and we will run through some simple calculations for e^x.\n",
    "\n",
    "We will use a Maclaurin Series which is a special case of the Taylor Series (it's centered about 0)\n",
    "\n",
    "![image.png](attachment:image.png)\n"
   ]
  },
  {
   "cell_type": "markdown",
   "metadata": {},
   "source": [
    "\\begin{equation}\n",
    "e^{x} = e^{0} = 1\n",
    "\\end{equation}\n",
    "\n",
    "\\begin{equation}\n",
    "e^{x} =  e^{0} + x \\frac{\\partial}{\\partial x} f({0}) = 1 + x\n",
    "\\end{equation}\n",
    "\n",
    "\\begin{equation}\n",
    "e^{x} =  e^{0} + x \\frac{\\partial}{\\partial x} f({0}) + x^{2} \\frac{\\partial}{\\partial x}\\frac{\\partial}{\\partial x} f({0})= 1 + x + 0.5x^2\n",
    "\\end{equation}\n",
    "\n",
    "\\begin{equation} ............\\end{equation}\n",
    "\n",
    "This process will continue infinitely until the the right side and the left side are exactly equal\n",
    "You get the simplification from the fact that all of the derivatives for e^{x} are e^{x}, and then evaluating them at 0 you get 1, leaving just the x terms divided by a factorial.\n"
   ]
  },
  {
   "cell_type": "markdown",
   "metadata": {},
   "source": [
    "Now, lets work out a simple Fourier Series example since that will be more applicable to the course\n",
    "\n",
    "We will be using the function\n",
    " - $f(x) = x^{2}$\n",
    "\n",
    "- - - \n",
    "- General Formula $\\begin{equation}\n",
    "\\\\f(x) = \\sum_{k=0}^{\\inf} \\alpha_n cos(\\frac{2\\pi k x}{L}) + \\beta_n sin(\\frac{2\\pi k x}{L})\n",
    "\\end{equation}$"
   ]
  },
  {
   "cell_type": "markdown",
   "metadata": {},
   "source": [
    "Using our math intuition, we can figure out that the entire $sin$ term will cancel itself out.  In solving for the coefficients $\\alpha$ and $\\beta$ we will need to integrate with respect to our function (x^{2}) and either cos or sin depending on if we're solving or $\\alpha$ or $\\beta$.  x^{2} is an even function (symmetric about the y-axis) and sin(x) is an odd function (f(-x) = -f(x)).  The product of an even function with an odd function is odd, and since we will be integrating over that product from -L to L you can see by the definition of an odd function why all of our $\\beta$s will go to 0 cancelling out the sin term"
   ]
  },
  {
   "cell_type": "markdown",
   "metadata": {},
   "source": [
    "Lets chose to look $x^{2}$ from -$\\pi$ to $\\pi$\n",
    "\n",
    "Plot it below\n"
   ]
  },
  {
   "cell_type": "code",
   "execution_count": null,
   "metadata": {},
   "outputs": [],
   "source": [
    "def plot_x2():\n",
    "    x = np.linspace(-np.pi,np.pi,1000)\n",
    "    y = x**2\n",
    "    y1st = np.pi ** 2 / 3\n",
    "    y2nd = -4 * np.cos(x)\n",
    "    y3rd = np.cos(2*x)\n",
    "    fig, ax = plt.subplots(figsize=(8,4))\n",
    "    ax.plot(x, y, label = 'x^2');\n",
    "    ax.plot(x, [y1st for i in range(len(x))], label = '1st order Fourier');\n",
    "    ax.plot(x, y1st + y2nd, label = '2nd order Fourier');\n",
    "    ax.plot(x, y1st + y2nd + y3rd, label = '3rd order Fourier');\n",
    "    plt.legend(loc='best')\n",
    "\n",
    "plot_x2()"
   ]
  },
  {
   "cell_type": "markdown",
   "metadata": {},
   "source": [
    "As you can see - similarly to our Taylor Series Approximations - our Fourier Series is also becoming a better approximation the more terms we include.  You can also see some parallels!  Instead of our first term being the initial value it is now the _average_ value of the function, but is a similar idea"
   ]
  },
  {
   "cell_type": "markdown",
   "metadata": {},
   "source": [
    "Solving for our a_0 term we see that \n",
    "\n",
    "$\\begin{equation}\n",
    "\\\\\\alpha_0 = \\frac{1}{2 \\pi}\\int_{-\\pi}^{\\pi} x^{2} dx = \\frac{\\pi^2}{3}\n",
    "\\end{equation}$\n",
    "\n",
    "This is the average value of our function on this domain!"
   ]
  },
  {
   "cell_type": "markdown",
   "metadata": {},
   "source": [
    "Now we have a general formula for finding the rest of the $\\alpha$ variables.  As you can see that n term being 0 will cancel out the cos term leaving just the original function (x^{2})\n",
    "\n",
    "$\\begin{equation}\n",
    "\\\\\\alpha_n = \\frac{1}{\\pi}\\int_{-\\pi}^{\\pi} x^{2} \\cos(nx) dx = \\frac{\\pi^2}{3}\n",
    "\\end{equation}$\n",
    "\n",
    "This function is not as easy to integrate by hand but doing it on a calculator is comes out to be\n",
    "\n",
    "$\\begin{equation}\n",
    "\\\\\\frac{2(\\pi^2 n^2 - 2)\\sin(\\pi n) + 4 \\pi n cos(\\pi n)}{\\pi n^3}\n",
    "\\end{equation}$\n",
    "\n",
    "But remember, we are letting n be small integers for this demonstration making them come out very nicely.\n",
    "\n",
    "For n = 1\n",
    "$\\begin{equation}\n",
    "\\\\\\frac{2(\\pi^2 1^2 - 2)\\sin(\\pi) + 4 \\pi cos(\\pi 1)}{\\pi 1^3} = \\frac{2(\\pi^2 - 2)\\sin(\\pi) + 4 \\pi cos(\\pi)}{\\pi} = \\frac{2(\\pi^2 - 2)\\sin(\\pi) - 4 \\pi }{\\pi} = -4\n",
    "\\end{equation}$\n",
    "\n",
    "For n = 2\n",
    "$\\begin{equation}\n",
    "\\\\\\frac{2(\\pi^2 2^2 - 2)\\sin(\\pi 2) + 4 \\pi n cos(\\pi 2)}{\\pi 2^3} = \\frac{8 \\pi  cos(2 \\pi)}{2^3 \\pi} = 1\n",
    "\\end{equation}$"
   ]
  }
 ],
 "metadata": {
  "kernelspec": {
   "display_name": "Python 3",
   "language": "python",
   "name": "python3"
  }
 },
 "nbformat": 4,
 "nbformat_minor": 2
}
