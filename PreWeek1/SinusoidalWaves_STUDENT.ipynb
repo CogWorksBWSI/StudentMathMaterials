{
 "cells": [
  {
   "cell_type": "markdown",
   "metadata": {},
   "source": [
    "# Sinusoidal Waves: A Review of Sine and Cosine\n",
    "> CogWorks 2018 (Petar Griggs and Ryan Soklaski)"
   ]
  },
  {
   "cell_type": "markdown",
   "metadata": {},
   "source": [
    "## The Unit Circle\n",
    "\n",
    "Before understanding sinusoidal waves, it is important to understand from where they are derived. In trigonometry, the unit circle is a circle of radius $r = 1$ centered around the origin, $(0, 0)$. For each point along the circumference of the circle, a right triangle can be formed such that the radius of the circle at that point is the hypotenuse of the triangle."
   ]
  },
  {
   "cell_type": "code",
   "execution_count": null,
   "metadata": {},
   "outputs": [],
   "source": [
    "# run this cell\n",
    "import numpy as np\n",
    "import matplotlib.pyplot as plt\n",
    "%matplotlib notebook\n",
    "\n",
    "fig = plt.figure()\n",
    "ax = fig.add_subplot(1,1,1)\n",
    "circ = plt.Circle((0, 0), radius=1, edgecolor='b', facecolor='None')\n",
    "ax.add_patch(circ)\n",
    "ax.axis(\"scaled\")\n",
    "ax.grid()\n",
    "plt.plot([0, np.sqrt(3)/2], [0, 1/2], [0, np.sqrt(3)/2], [0, 0], [np.sqrt(3)/2, np.sqrt(3)/2], [0, 1/2], color=\"k\")\n",
    "ax.set_title(\"Unit Circle\");"
   ]
  },
  {
   "cell_type": "markdown",
   "metadata": {},
   "source": [
    "The height and width of the triangles formed in this fashion by a unit circle are referred to as sine and cosine, respectively. As the height and width depend on the angle, $\\theta$, at which the radius departs from the x-axis, we can consider sine and cosine to be functions of $\\theta$: $sin(\\theta)$ and $cos(\\theta)$. An animated vizualization of $sin(\\theta)$ can be found at the bottom of this notebook.\n",
    "\n",
    "It should be noted that $\\theta=0\\;deg$ at the right-most point on the circumference of the circle: $(1, 0)$.\n",
    "\n",
    "If we are to plot either sine or cosine against the angle, in degrees, of $\\theta$, we will see a _sinusoidal wave_:"
   ]
  },
  {
   "cell_type": "code",
   "execution_count": null,
   "metadata": {},
   "outputs": [],
   "source": [
    "# run this cell\n",
    "fig = plt.figure()\n",
    "ax = fig.add_subplot(1,1,1)\n",
    "\n",
    "x = np.arange(0,360,0.01)\n",
    "y = np.sin(np.deg2rad(x))\n",
    "\n",
    "line, = ax.plot(x, y, lw=2)\n",
    "ax.grid()\n",
    "\n",
    "ax.set_title(\"Sine Wave\")\n",
    "ax.set_xlabel(r\"$\\theta$ [deg]\");"
   ]
  },
  {
   "cell_type": "markdown",
   "metadata": {},
   "source": [
    "The plot above shows a sine wave. Note how $y$ is equal to the height of the triangle for all $\\theta=x$. For example, when $\\theta=0\\;deg$, the height of the triangle formed with the x-axis is $0$. Similarly, when $\\theta=90\\;deg$, the height of the triangle in the unit circle is equal to the radius, or $r=1$.\n",
    "\n",
    "Note how the plot above sets `y = np.sin(np.deg2rad(x))`, as opposed to simply `y = np.sin(x)`. This is because numpy's trigonometric functions, including sine and cosine, use _radians_ instead of _degrees_. Simply put, a radian is the length of the circumfrence that is equal to the length of the radius. There are exactly $2\\pi$ radians in a circle, meaning $180\\;deg=\\pi\\;rad$. From this we can find the the degree to radian conversion is $rad = deg \\cdot \\frac{\\pi}{180}$. The numpy function `deg2rad()` will perform this conversion on any numpy array. For the remainder of this course, we will use radians as opposed to degrees.\n",
    "\n",
    "Sine and cosine are both sinusoidal waves - they both share the same shape. However, they are shifted horizontally by $90\\;deg$, or $\\frac{\\pi}{2}\\;rad$. This is due to Pythagoras' Theorem: $a^2 + b^2 = c^2$. As $c$ (the hypotenuse) is always equal to $1$ (the radius of the unit circle) then $a^2 + b^2 = 1$. When either $a$ or $b$ decreases, the other must increase by an equal amount."
   ]
  },
  {
   "cell_type": "code",
   "execution_count": null,
   "metadata": {},
   "outputs": [],
   "source": [
    "# run this cell\n",
    "fig = plt.figure()\n",
    "ax = fig.add_subplot(1,1,1)\n",
    "\n",
    "x = np.arange(0,4*np.pi,0.001)\n",
    "y = np.sin(x)\n",
    "z = np.cos(x)\n",
    "\n",
    "line, = ax.plot(x, y, lw=2, label=\"sine\")\n",
    "line, = ax.plot(x, z, lw=2, label=\"cosine\")\n",
    "ax.grid()\n",
    "\n",
    "plt.plot([0, 4*np.pi], [0, 0], color=\"k\")\n",
    "\n",
    "ax.set_title(\"Sine & Cosine\")\n",
    "ax.set_xlabel(r\"$\\theta$ [rad]\")\n",
    "ax.legend(loc=\"lower left\");"
   ]
  },
  {
   "cell_type": "markdown",
   "metadata": {},
   "source": [
    "### Exercises:\n",
    "\n",
    "1. At what angle (in degrees and radians) are sine and cosine equal? Use the numpy functions for both sine and cosine and the `np.isclose()` function to test.\n",
    "\n",
    "2. Convert:\n",
    "    * $30\\;deg$ to radians.\n",
    "    * $0.5\\;rad$ to degrees.\n",
    "    * $360\\;deg$ to radians.\n",
    "\n",
    "3. For:\n",
    "    * $\\theta=\\frac{\\pi}{6}\\;rad$\n",
    "    * $\\theta=\\frac{\\pi}{4}\\;rad$\n",
    "    * $\\theta=\\frac{\\pi}{3}\\;rad$\n",
    "\n",
    "What is sine? What is cosine?"
   ]
  },
  {
   "cell_type": "markdown",
   "metadata": {},
   "source": [
    "## Understanding Waves: Frequency and Amplitude"
   ]
  },
  {
   "cell_type": "markdown",
   "metadata": {},
   "source": [
    "The general form of a sine function is:\n",
    "\n",
    "\\begin{equation}\n",
    "y = \\alpha \\cdot sin(\\omega \\cdot \\theta)\n",
    "\\end{equation}\n",
    "\n",
    "where $\\alpha$ is the _amplitude_, $\\omega$ is the _angular frequency_ of the wave, and $\\theta$ is in radians.\n",
    "\n",
    "Cosine shares the same general form.\n",
    "\n",
    "The amplitude of a sinusoidal wave is the distance from the _midline_ of the wave. The midline of sine or cosine is the horizontal axis around which the wave oscillates; for a simple sine wave of the form $y = sin(\\theta)$, the midline is $0$."
   ]
  },
  {
   "cell_type": "code",
   "execution_count": null,
   "metadata": {},
   "outputs": [],
   "source": [
    "fig = plt.figure()\n",
    "ax = fig.add_subplot(1,1,1)\n",
    "\n",
    "amp = 2\n",
    "x = np.arange(0,2*np.pi,0.001)\n",
    "y = amp * np.sin(x)\n",
    "\n",
    "line, = ax.plot(x, y, lw=2)\n",
    "ax.grid()\n",
    "\n",
    "plt.plot([np.pi/2, np.pi/2], [0, amp], color=\"g\")\n",
    "ax.annotate('Amplitude', xy=(np.pi/2, 0.5*amp), xytext=(5*np.pi/6, 0.75*amp),\n",
    "            arrowprops=dict(facecolor='black', shrink=0.05),\n",
    "            )\n",
    "plt.plot([3*np.pi/2, 3*np.pi/2], [0, -amp], color=\"g\")\n",
    "ax.annotate('Amplitude', xy=(3*np.pi/2, -0.5*amp), xytext=(5*np.pi/6, -0.75*amp),\n",
    "            arrowprops=dict(facecolor='black', shrink=0.05),\n",
    "            )\n",
    "plt.plot([0, 2*np.pi], [0, 0], color=\"k\")\n",
    "\n",
    "ax.set_title(\"Illustrating Amplitudes\")\n",
    "ax.set_xlabel(r\"$\\theta$ [rad]\");"
   ]
  },
  {
   "cell_type": "markdown",
   "metadata": {},
   "source": [
    "It is especially important to understand the frequency of a sinusoidal wave. Angular frequency, as seen in the above equation, is the number of **radians** a wave covers over a given unit of length. This means, if we were to trace the sinusoidal wave, the total distance we would travel would be equal to the angular frequency.\n",
    "\n",
    "Regular frequency, meanwhile, the number of **oscillations** within a unit of length or time. We can convert between angular frequency and regular frequency with the equation $\\omega = 2\\pi f$.\n",
    "\n",
    "Thus, the general sine equation can be rewritten as:\n",
    "\n",
    "\\begin{equation}\n",
    "y = \\alpha \\cdot sin(2\\pi f \\cdot \\theta)\n",
    "\\end{equation}\n",
    "\n",
    "where $f$ is the regular frequency of the wave. Again, cosine shares this same form.\n",
    "\n",
    "Typically, regular frequency is simply referred to as frequency, unless a clear distinction must be from angular frequency."
   ]
  },
  {
   "cell_type": "code",
   "execution_count": null,
   "metadata": {},
   "outputs": [],
   "source": [
    "fig = plt.figure()\n",
    "ax = fig.add_subplot(1,1,1)\n",
    "\n",
    "x = np.arange(0,np.pi/2,0.01)\n",
    "y = np.sin(x*2*np.pi*5)\n",
    "\n",
    "line, = ax.plot(x, y, lw=2)\n",
    "ax.grid()\n",
    "\n",
    "plt.plot([0, np.pi/2], [0, 0], color=\"k\")\n",
    "\n",
    "ax.set_title(\"Illustrating Frequency\")\n",
    "ax.set_xlabel(r\"$2\\pi\\/\\theta$ [rad]\");"
   ]
  },
  {
   "cell_type": "markdown",
   "metadata": {},
   "source": [
    "In the plot above, the unit of measure is radians, as `np.sin()` takes in its argument in radians. \n",
    "\n",
    "The wave has the form `y = np.sin(x*2*np.pi*5)`. From this, we can tell that the frequency of the wave is $5$. Thus, we should expect $5$ oscillations for $2\\pi\\theta$ radians.\n",
    "\n",
    "In order to more clearly see the number of oscillations, we can simply limit the x-axis to the domain to capture only one unit of measurement - $[0, 1]$."
   ]
  },
  {
   "cell_type": "code",
   "execution_count": null,
   "metadata": {},
   "outputs": [],
   "source": [
    "fig = plt.figure()\n",
    "ax = fig.add_subplot(1,1,1)\n",
    "\n",
    "x = np.arange(0,1,0.001)\n",
    "y = np.sin(x*2*np.pi*5)\n",
    "\n",
    "line, = ax.plot(x, y, lw=2)\n",
    "ax.grid()\n",
    "\n",
    "plt.plot([0, 1], [0, 0], color=\"k\")\n",
    "ax.set_xlabel(r\"$2\\pi\\/\\theta$ [rad]\");"
   ]
  },
  {
   "cell_type": "markdown",
   "metadata": {},
   "source": [
    "And voilà! We can see that there are five oscillations within the one unit of measurement."
   ]
  },
  {
   "cell_type": "markdown",
   "metadata": {},
   "source": [
    "The following plot simply shows that doubling a wave's frequency doubles the number of oscillations that it completes per unit length."
   ]
  },
  {
   "cell_type": "code",
   "execution_count": null,
   "metadata": {},
   "outputs": [],
   "source": [
    "fig = plt.figure()\n",
    "ax = fig.add_subplot(1,1,1)\n",
    "\n",
    "x = np.linspace(0, 1, 1000)\n",
    "for f in [1, 2]:\n",
    "    y = np.sin(2*np.pi*f*x)\n",
    "    line, = ax.plot(x, y, lw=2, label=\"frequency: {}\".format(f))\n",
    "ax.grid()\n",
    "\n",
    "ax.set_title(\"Illustrating Frequency\")\n",
    "ax.set_xlabel(r\"$2\\pi\\/\\theta$ [rad]\")\n",
    "ax.legend();"
   ]
  },
  {
   "cell_type": "markdown",
   "metadata": {},
   "source": [
    "To relate this phenomenon to real life, suppose that your little cousin is swinging back and forth on a swing set. You, being a responsible baby sitter, decide to keep count of her swings. You count a swing each time she reaches the bottom of the swing set, moving forward. \n",
    "\n",
    "In the 10 minutes that you watch her swing, you count a total of 171 complete swings. At what average frequency (completed swings per second) is she swinging?\n",
    "\n",
    "\\begin{equation}\n",
    "f = \\frac{N_{oscillations}}{T} = \\frac{171}{(10*60)sec} = 0.285\\frac{1}{sec} = \\frac{1}{3.5sec}\n",
    "\\end{equation}\n",
    "\n",
    "Thus your cousin completes a full swing roughly once every 3.5 seconds."
   ]
  },
  {
   "cell_type": "markdown",
   "metadata": {},
   "source": [
    "It is common to use 1/seconds as the unit of measure for frequency, so much so that it has its own name - Hertz (Hz). In the example above, we could say that your cousin swings at a frequency of $\\frac{1}{3.5} Hz$. In such a scenario, the variable for our sine or cosine function would not be $\\theta$, but rather time ($t$).\n",
    "\n",
    "Below, we illustrate the example of your cousin and we see that there is one full oscillation in 3.5 seconds, or a frequency of $\\frac{1}{3.5} Hz$."
   ]
  },
  {
   "cell_type": "code",
   "execution_count": null,
   "metadata": {},
   "outputs": [],
   "source": [
    "fig = plt.figure()\n",
    "ax = fig.add_subplot(1,1,1)\n",
    "\n",
    "x = np.linspace(0, 3.5, 1000)\n",
    "y = np.sin(2*np.pi*x/3.5)\n",
    "line, = ax.plot(x, y, lw=2)\n",
    "ax.grid()\n",
    "\n",
    "ax.set_xlabel(r\"$t$ [sec]\")\n",
    "ax.set_title(\"displacement of single 'swing'\");"
   ]
  },
  {
   "cell_type": "markdown",
   "metadata": {
    "lines_to_next_cell": 2
   },
   "source": [
    "### Exercises:\n",
    "\n",
    "* Create a sine wave that oscillates 10 times within 1 radian.\n",
    "\n",
    "* Create a cosine wave that oscillates 8 times within 90 degrees.\n",
    "\n",
    "* Create a sine wave with an amplitude of 4. What is the equivalent cosine wave?\n",
    "\n",
    "\n",
    "Below are three plots of sinusoidal waves. Using the information in the graph, determine the sinusoidal equation used in the plot. Note that the unit length for the frequency of all plots is $1\\;rad$.\n",
    "\n",
    "![title](pics/sin_cos_practice.jpg)"
   ]
  },
  {
   "cell_type": "markdown",
   "metadata": {},
   "source": [
    "Below is an animation that displays a point moving around the unit circle and the corresponding sinusoidal wave. You\n",
    "may need to install ffmpeg to display the animation, which can be done by running `conda install -c conda-forge ffmpeg`.\n"
   ]
  },
  {
   "cell_type": "code",
   "execution_count": null,
   "metadata": {},
   "outputs": [],
   "source": [
    "%%capture\n",
    "from matplotlib import animation\n",
    "from IPython.display import HTML\n",
    "\n",
    "fig = plt.figure(num = 0, figsize=(7, 5))\n",
    "fig.set_dpi(100)\n",
    "fig.set_size_inches(7, 5)\n",
    "\n",
    "ax01 = plt.subplot2grid((1, 2), (0, 0))\n",
    "ax02 = plt.subplot2grid((1, 2), (0, 1))\n",
    "\n",
    "ax01.set_xlim(-1.1, 1.1)\n",
    "ax01.set_ylim(-1.1, 1.1)\n",
    "ax01.grid(True)\n",
    "patch = plt.Circle((1, 0), radius=0.03, facecolor='r')\n",
    "height, = ax01.plot([], [], lw=2, color=\"r\")\n",
    "\n",
    "ax02.set_xlim(0, 360)\n",
    "ax02.set_ylim(-1.1, 1.1)\n",
    "ax02.grid(True)\n",
    "sine, = ax02.plot([], [], lw=2)\n",
    "\n",
    "def init():\n",
    "    circ = plt.Circle((0, 0), radius=1, edgecolor='b', facecolor='None')\n",
    "    ax01.add_patch(circ)\n",
    "    \n",
    "    patch.center = (1, 0)\n",
    "    ax01.add_patch(patch)\n",
    "    height.set_data([], [])\n",
    "    \n",
    "    sine.set_data([], [])\n",
    "    \n",
    "    return patch, line\n",
    "\n",
    "def animate(i):\n",
    "    x = np.cos(np.radians(i))\n",
    "    y = np.sin(np.radians(i))\n",
    "    patch.center = (x, y)\n",
    "    height.set_data([x, x], [0, y])\n",
    "    \n",
    "    a = np.linspace(0, i, 1000)\n",
    "    b = np.sin(np.deg2rad(a))\n",
    "    sine.set_data(a, b)\n",
    "    \n",
    "    return patch, sine\n",
    "\n",
    "anim = animation.FuncAnimation(fig, animate, \n",
    "                               init_func=init, \n",
    "                               frames=360, \n",
    "                               interval=20,\n",
    "                               blit=True)"
   ]
  },
  {
   "cell_type": "code",
   "execution_count": null,
   "metadata": {},
   "outputs": [],
   "source": [
    "HTML(anim.to_html5_video())"
   ]
  }
 ],
 "metadata": {
  "kernelspec": {
   "display_name": "Python 3",
   "language": "python",
   "name": "python3"
  }
 },
 "nbformat": 4,
 "nbformat_minor": 2
}
